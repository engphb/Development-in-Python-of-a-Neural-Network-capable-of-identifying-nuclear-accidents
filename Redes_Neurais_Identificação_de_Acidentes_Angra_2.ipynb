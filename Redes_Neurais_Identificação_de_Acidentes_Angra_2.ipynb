{
  "nbformat": 4,
  "nbformat_minor": 0,
  "metadata": {
    "colab": {
      "name": "Redes_Neurais_Identificação_de_Acidentes_Angra_2.ipynb",
      "provenance": [],
      "collapsed_sections": [
        "C5U5rHcRJIiD",
        "WsI3rA7iJyW1",
        "njgQDeG7J8Pu",
        "5850MwdJKOvt",
        "kkhw0Ky8KgYu",
        "EYWwHXZNK-Ci",
        "srFQBAmaLPBA",
        "zivKezCqLbTQ",
        "iK8mtW3LL8_o"
      ],
      "include_colab_link": true
    },
    "kernelspec": {
      "name": "python3",
      "display_name": "Python 3"
    }
  },
  "cells": [
    {
      "cell_type": "markdown",
      "metadata": {
        "id": "view-in-github",
        "colab_type": "text"
      },
      "source": [
        "<a href=\"https://colab.research.google.com/github/engphb/Development-in-Python-of-a-Neural-Network-capable-of-identifying-nuclear-accidents/blob/main/Redes_Neurais_Identifica%C3%A7%C3%A3o_de_Acidentes_Angra_2.ipynb\" target=\"_parent\"><img src=\"https://colab.research.google.com/assets/colab-badge.svg\" alt=\"Open In Colab\"/></a>"
      ]
    },
    {
      "cell_type": "markdown",
      "metadata": {
        "id": "C5U5rHcRJIiD"
      },
      "source": [
        "# Importando as Bibliotecas\n",
        "\n",
        "1.   numpy\n",
        "2.   pandas\n",
        "3.   keras\n",
        "4.   sklearn\n",
        "5.   matplotlib\n",
        "6.   tensorflow\n",
        "\n",
        "\n",
        "\n"
      ]
    },
    {
      "cell_type": "code",
      "metadata": {
        "id": "NCZ7o_OcJRwt"
      },
      "source": [
        "import numpy as np\n",
        "from numpy.random import seed \n",
        "import pandas as pd \n",
        "import matplotlib.pyplot as plt\n",
        "import keras\n",
        "from tensorflow import random\n",
        "from keras.models import Sequential\n",
        "from tensorflow.keras import layers, models, optimizers\n",
        "from sklearn.preprocessing import MinMaxScaler \n",
        "from sklearn.model_selection import train_test_split \n",
        "from sklearn.metrics import mean_absolute_error, mean_squared_error, r2_score, explained_variance_score"
      ],
      "execution_count": null,
      "outputs": []
    },
    {
      "cell_type": "markdown",
      "metadata": {
        "id": "WsI3rA7iJyW1"
      },
      "source": [
        "# Leitura de Dados"
      ]
    },
    {
      "cell_type": "code",
      "metadata": {
        "id": "JEB_9pB9JXI8",
        "colab": {
          "base_uri": "https://localhost:8080/",
          "height": 344
        },
        "outputId": "9530ccda-b892-4888-99df-af57237646ed"
      },
      "source": [
        "df = pd.read_excel('/content/Dados_Acidentes.xlsx')\n",
        "df.head()"
      ],
      "execution_count": null,
      "outputs": [
        {
          "output_type": "execute_result",
          "data": {
            "text/html": [
              "<div>\n",
              "<style scoped>\n",
              "    .dataframe tbody tr th:only-of-type {\n",
              "        vertical-align: middle;\n",
              "    }\n",
              "\n",
              "    .dataframe tbody tr th {\n",
              "        vertical-align: top;\n",
              "    }\n",
              "\n",
              "    .dataframe thead th {\n",
              "        text-align: right;\n",
              "    }\n",
              "</style>\n",
              "<table border=\"1\" class=\"dataframe\">\n",
              "  <thead>\n",
              "    <tr style=\"text-align: right;\">\n",
              "      <th></th>\n",
              "      <th>Tempo (s)</th>\n",
              "      <th>Vazao no nucleo (%)</th>\n",
              "      <th>Temperatura na perna quente (C)</th>\n",
              "      <th>Temperatura na perna fria (C)</th>\n",
              "      <th>Vazao no nucleo (kg/s)</th>\n",
              "      <th>Nivel no gerador de vapor - Faixa larga (%)</th>\n",
              "      <th>Nivel no gerador de vapor - Faixa estreita (%)</th>\n",
              "      <th>Pressao no gerador de vapor (Mpa)</th>\n",
              "      <th>Vazao de agua de alimentacao (kg/s)</th>\n",
              "      <th>Vazao de vapor (kg/s)</th>\n",
              "      <th>Vazao no circuito primario (kg/s)</th>\n",
              "      <th>Pressao no sistema primario (Mpa)</th>\n",
              "      <th>Potencia Termica (%)</th>\n",
              "      <th>Potencia Nuclear (%)</th>\n",
              "      <th>Margem de sub-resfriamento (C)</th>\n",
              "      <th>Nivel do pressurizador (%)</th>\n",
              "      <th>Temperatura media no primario (C)</th>\n",
              "      <th>acidente</th>\n",
              "    </tr>\n",
              "  </thead>\n",
              "  <tbody>\n",
              "    <tr>\n",
              "      <th>0</th>\n",
              "      <td>0</td>\n",
              "      <td>105.2230</td>\n",
              "      <td>324.465</td>\n",
              "      <td>291.456</td>\n",
              "      <td>50418.4</td>\n",
              "      <td>50.0000</td>\n",
              "      <td>62.5153</td>\n",
              "      <td>6.89480</td>\n",
              "      <td>527.7670</td>\n",
              "      <td>527.767</td>\n",
              "      <td>105.2230</td>\n",
              "      <td>15.8000</td>\n",
              "      <td>100.00000</td>\n",
              "      <td>100.00000</td>\n",
              "      <td>21.8620</td>\n",
              "      <td>59.1491</td>\n",
              "      <td>307.959</td>\n",
              "      <td>blackout</td>\n",
              "    </tr>\n",
              "    <tr>\n",
              "      <th>1</th>\n",
              "      <td>1</td>\n",
              "      <td>105.3900</td>\n",
              "      <td>324.463</td>\n",
              "      <td>291.457</td>\n",
              "      <td>50418.3</td>\n",
              "      <td>50.0078</td>\n",
              "      <td>62.5169</td>\n",
              "      <td>6.89413</td>\n",
              "      <td>527.8900</td>\n",
              "      <td>528.396</td>\n",
              "      <td>105.3900</td>\n",
              "      <td>15.7999</td>\n",
              "      <td>100.00500</td>\n",
              "      <td>100.00500</td>\n",
              "      <td>21.8967</td>\n",
              "      <td>59.1357</td>\n",
              "      <td>307.942</td>\n",
              "      <td>blackout</td>\n",
              "    </tr>\n",
              "    <tr>\n",
              "      <th>2</th>\n",
              "      <td>2</td>\n",
              "      <td>99.4508</td>\n",
              "      <td>325.009</td>\n",
              "      <td>291.500</td>\n",
              "      <td>50044.8</td>\n",
              "      <td>49.0423</td>\n",
              "      <td>62.2777</td>\n",
              "      <td>6.94732</td>\n",
              "      <td>34.5845</td>\n",
              "      <td>354.461</td>\n",
              "      <td>99.4663</td>\n",
              "      <td>15.4866</td>\n",
              "      <td>11.97310</td>\n",
              "      <td>11.97570</td>\n",
              "      <td>30.3013</td>\n",
              "      <td>54.6116</td>\n",
              "      <td>303.144</td>\n",
              "      <td>blackout</td>\n",
              "    </tr>\n",
              "    <tr>\n",
              "      <th>3</th>\n",
              "      <td>3</td>\n",
              "      <td>92.9815</td>\n",
              "      <td>324.302</td>\n",
              "      <td>291.910</td>\n",
              "      <td>49535.0</td>\n",
              "      <td>45.4870</td>\n",
              "      <td>61.7591</td>\n",
              "      <td>7.18567</td>\n",
              "      <td>34.0993</td>\n",
              "      <td>152.994</td>\n",
              "      <td>93.0863</td>\n",
              "      <td>15.1530</td>\n",
              "      <td>10.22470</td>\n",
              "      <td>10.22570</td>\n",
              "      <td>38.5294</td>\n",
              "      <td>49.9259</td>\n",
              "      <td>298.083</td>\n",
              "      <td>blackout</td>\n",
              "    </tr>\n",
              "    <tr>\n",
              "      <th>4</th>\n",
              "      <td>4</td>\n",
              "      <td>87.1439</td>\n",
              "      <td>320.759</td>\n",
              "      <td>292.337</td>\n",
              "      <td>49044.1</td>\n",
              "      <td>39.7598</td>\n",
              "      <td>61.2484</td>\n",
              "      <td>7.41172</td>\n",
              "      <td>33.5098</td>\n",
              "      <td>210.368</td>\n",
              "      <td>87.3292</td>\n",
              "      <td>14.9126</td>\n",
              "      <td>9.05521</td>\n",
              "      <td>9.05586</td>\n",
              "      <td>41.9348</td>\n",
              "      <td>46.6158</td>\n",
              "      <td>295.654</td>\n",
              "      <td>blackout</td>\n",
              "    </tr>\n",
              "  </tbody>\n",
              "</table>\n",
              "</div>"
            ],
            "text/plain": [
              "   Tempo (s)  Vazao no nucleo (%)  ...  Temperatura media no primario (C)  acidente\n",
              "0          0             105.2230  ...                            307.959  blackout\n",
              "1          1             105.3900  ...                            307.942  blackout\n",
              "2          2              99.4508  ...                            303.144  blackout\n",
              "3          3              92.9815  ...                            298.083  blackout\n",
              "4          4              87.1439  ...                            295.654  blackout\n",
              "\n",
              "[5 rows x 18 columns]"
            ]
          },
          "metadata": {
            "tags": []
          },
          "execution_count": 59
        }
      ]
    },
    {
      "cell_type": "code",
      "metadata": {
        "id": "wtP_eGqbJx3Q",
        "colab": {
          "base_uri": "https://localhost:8080/"
        },
        "outputId": "97924590-6029-4cc9-8eca-1fa0df136787"
      },
      "source": [
        "#Randomiza as linhas\n",
        "df = df.sample(frac=1, replace=False, random_state=1)\n",
        "print(df)"
      ],
      "execution_count": null,
      "outputs": [
        {
          "output_type": "stream",
          "text": [
            "     Tempo (s)  ...  acidente\n",
            "404         38  ...  mfwbrsem\n",
            "646         36  ...  mfwbrsem\n",
            "159         37  ...  mfwbrsem\n",
            "449         22  ...  mstmisem\n",
            "699         28  ...  mstmisem\n",
            "..         ...  ...       ...\n",
            "645         35  ...  mfwbrsem\n",
            "715         44  ...  mstmisem\n",
            "72          11  ...  mefwisem\n",
            "235         52  ...  mstmisem\n",
            "37          37  ...  blackout\n",
            "\n",
            "[732 rows x 18 columns]\n"
          ],
          "name": "stdout"
        }
      ]
    },
    {
      "cell_type": "markdown",
      "metadata": {
        "id": "njgQDeG7J8Pu"
      },
      "source": [
        "# Separando o Conjunto de Dados em Treinamento, Validação e Teste"
      ]
    },
    {
      "cell_type": "code",
      "metadata": {
        "id": "OmJ0jZnzKFDR"
      },
      "source": [
        "x_train = df.iloc[:532, 1:17].astype(float)\n",
        "y_train = df.iloc[:532, 17].astype('category')\n",
        "x_valid = df.iloc[532:632, 1:17].astype(float)\n",
        "y_valid = df.iloc[532:632, 17].astype('category')\n",
        "x_test = df.iloc[632:732, 1:17].astype(float)\n",
        "y_test = df.iloc[632:732, 17].astype('category')\n",
        "parametro = y_test\n",
        "#print(x_train)\n",
        "#print(y_train)"
      ],
      "execution_count": null,
      "outputs": []
    },
    {
      "cell_type": "code",
      "metadata": {
        "id": "37lRp_4pbi0E"
      },
      "source": [
        "list_r= []\n",
        "for i in parametro.items():\n",
        "  list_r.append(i[1])"
      ],
      "execution_count": null,
      "outputs": []
    },
    {
      "cell_type": "markdown",
      "metadata": {
        "id": "5850MwdJKOvt"
      },
      "source": [
        "# Normalizando as Entradas"
      ]
    },
    {
      "cell_type": "code",
      "metadata": {
        "id": "c9ggdC91KKIr"
      },
      "source": [
        "import sklearn\n",
        "from sklearn.preprocessing import MinMaxScaler\n",
        "from sklearn.preprocessing import Normalizer\n",
        "\n",
        "Normalizer=(MinMaxScaler(feature_range = (0,1)))\n",
        "\n",
        "x_train=Normalizer.fit_transform(x_train)\n",
        "x_valid=Normalizer.transform(x_valid)\n",
        "x_test=Normalizer.transform(x_test)"
      ],
      "execution_count": null,
      "outputs": []
    },
    {
      "cell_type": "code",
      "metadata": {
        "id": "SxewMX5gKaUS",
        "colab": {
          "base_uri": "https://localhost:8080/"
        },
        "outputId": "b552f942-89f4-47d8-d954-faf29ef104e4"
      },
      "source": [
        "x_train"
      ],
      "execution_count": null,
      "outputs": [
        {
          "output_type": "execute_result",
          "data": {
            "text/plain": [
              "array([[0.93740119, 0.8035646 , 0.6093786 , ..., 0.1740651 , 0.63420186,\n",
              "        0.68480836],\n",
              "       [0.93329678, 0.75485732, 0.60042276, ..., 0.21136537, 0.61520976,\n",
              "        0.68864073],\n",
              "       [0.939272  , 0.79512025, 0.58627825, ..., 0.17555943, 0.61807486,\n",
              "        0.67203273],\n",
              "       ...,\n",
              "       [0.94982786, 0.75196843, 0.47761094, ..., 0.26981076, 0.54801113,\n",
              "        0.6184942 ],\n",
              "       [0.95844815, 0.84574986, 0.54315273, ..., 0.1578377 , 0.64388161,\n",
              "        0.72766279],\n",
              "       [0.02381064, 0.07482994, 0.19849314, ..., 0.91738464, 0.05733775,\n",
              "        0.16590685]])"
            ]
          },
          "metadata": {
            "tags": []
          },
          "execution_count": 64
        }
      ]
    },
    {
      "cell_type": "markdown",
      "metadata": {
        "id": "kkhw0Ky8KgYu"
      },
      "source": [
        "# Codificando as Saídas"
      ]
    },
    {
      "cell_type": "code",
      "metadata": {
        "id": "Xac9OqEaKj0n"
      },
      "source": [
        "#Converte labels para vetores\n",
        "from sklearn.preprocessing import LabelBinarizer\n",
        "lb = LabelBinarizer()\n",
        "y_train = lb.fit_transform(y_train)\n",
        "y_valid = lb.transform(y_valid)\n",
        "y_test = lb.transform(y_test)"
      ],
      "execution_count": null,
      "outputs": []
    },
    {
      "cell_type": "code",
      "metadata": {
        "id": "yoiLF2RvK4QY",
        "colab": {
          "base_uri": "https://localhost:8080/"
        },
        "outputId": "fa50cf93-dbe2-462e-a15b-348cea49b956"
      },
      "source": [
        "y_train"
      ],
      "execution_count": null,
      "outputs": [
        {
          "output_type": "execute_result",
          "data": {
            "text/plain": [
              "array([[0, 0, 1, 0],\n",
              "       [0, 0, 1, 0],\n",
              "       [0, 0, 1, 0],\n",
              "       ...,\n",
              "       [0, 0, 0, 1],\n",
              "       [0, 0, 0, 1],\n",
              "       [1, 0, 0, 0]])"
            ]
          },
          "metadata": {
            "tags": []
          },
          "execution_count": 66
        }
      ]
    },
    {
      "cell_type": "markdown",
      "metadata": {
        "id": "EYWwHXZNK-Ci"
      },
      "source": [
        "# Modelando a Rede Neural"
      ]
    },
    {
      "cell_type": "code",
      "metadata": {
        "id": "dWZg4XDfK7Vu",
        "colab": {
          "base_uri": "https://localhost:8080/"
        },
        "outputId": "0453362b-9513-4cf0-eb54-5fee1e3b2721"
      },
      "source": [
        "model = models.Sequential()\n",
        "model.add(layers.Dense(100,activation='relu',input_dim=(x_train.shape[1])))\n",
        "model.add(layers.Dense(64,activation='relu'))\n",
        "model.add(layers.Dense(32,activation='relu'))\n",
        "model.add(layers.Dense(4,activation='softmax')) #Softmax de cada vetor x é calculado como exp (x) / tf.reduce_sum (exp (x)).\n",
        "#Resumo do Modelo\n",
        "model.summary()"
      ],
      "execution_count": null,
      "outputs": [
        {
          "output_type": "stream",
          "text": [
            "Model: \"sequential_3\"\n",
            "_________________________________________________________________\n",
            "Layer (type)                 Output Shape              Param #   \n",
            "=================================================================\n",
            "dense_12 (Dense)             (None, 100)               1700      \n",
            "_________________________________________________________________\n",
            "dense_13 (Dense)             (None, 64)                6464      \n",
            "_________________________________________________________________\n",
            "dense_14 (Dense)             (None, 32)                2080      \n",
            "_________________________________________________________________\n",
            "dense_15 (Dense)             (None, 4)                 132       \n",
            "=================================================================\n",
            "Total params: 10,376\n",
            "Trainable params: 10,376\n",
            "Non-trainable params: 0\n",
            "_________________________________________________________________\n"
          ],
          "name": "stdout"
        }
      ]
    },
    {
      "cell_type": "code",
      "metadata": {
        "id": "7QqakFygK9d7"
      },
      "source": [
        "optimizer = optimizers.Adam(learning_rate=0.01)\n",
        "model.compile(loss='categorical_crossentropy', optimizer=optimizer, metrics=['accuracy'])"
      ],
      "execution_count": null,
      "outputs": []
    },
    {
      "cell_type": "markdown",
      "metadata": {
        "id": "srFQBAmaLPBA"
      },
      "source": [
        "# Treinamento da Rede Neural"
      ]
    },
    {
      "cell_type": "code",
      "metadata": {
        "id": "ttub5UZULLVZ",
        "colab": {
          "base_uri": "https://localhost:8080/"
        },
        "outputId": "f2ebb437-da31-43f8-8bbd-ccac7a260fc4"
      },
      "source": [
        "history = model.fit(x_train, y_train, epochs=100, batch_size=32, validation_data=(x_valid, y_valid))"
      ],
      "execution_count": null,
      "outputs": [
        {
          "output_type": "stream",
          "text": [
            "Epoch 1/100\n",
            "17/17 [==============================] - 1s 16ms/step - loss: 1.1916 - accuracy: 0.3717 - val_loss: 0.9385 - val_accuracy: 0.5200\n",
            "Epoch 2/100\n",
            "17/17 [==============================] - 0s 5ms/step - loss: 0.8213 - accuracy: 0.5944 - val_loss: 0.4827 - val_accuracy: 0.8200\n",
            "Epoch 3/100\n",
            "17/17 [==============================] - 0s 5ms/step - loss: 0.4935 - accuracy: 0.7981 - val_loss: 0.3044 - val_accuracy: 0.9300\n",
            "Epoch 4/100\n",
            "17/17 [==============================] - 0s 5ms/step - loss: 0.3124 - accuracy: 0.8985 - val_loss: 0.2257 - val_accuracy: 0.8800\n",
            "Epoch 5/100\n",
            "17/17 [==============================] - 0s 5ms/step - loss: 0.2882 - accuracy: 0.8914 - val_loss: 0.1453 - val_accuracy: 0.9600\n",
            "Epoch 6/100\n",
            "17/17 [==============================] - 0s 5ms/step - loss: 0.2373 - accuracy: 0.9201 - val_loss: 0.1161 - val_accuracy: 0.9500\n",
            "Epoch 7/100\n",
            "17/17 [==============================] - 0s 5ms/step - loss: 0.2042 - accuracy: 0.9423 - val_loss: 0.1063 - val_accuracy: 0.9700\n",
            "Epoch 8/100\n",
            "17/17 [==============================] - 0s 5ms/step - loss: 0.2132 - accuracy: 0.9398 - val_loss: 0.3372 - val_accuracy: 0.8400\n",
            "Epoch 9/100\n",
            "17/17 [==============================] - 0s 5ms/step - loss: 0.1912 - accuracy: 0.9311 - val_loss: 0.1652 - val_accuracy: 0.9600\n",
            "Epoch 10/100\n",
            "17/17 [==============================] - 0s 5ms/step - loss: 0.1439 - accuracy: 0.9587 - val_loss: 0.1173 - val_accuracy: 0.9700\n",
            "Epoch 11/100\n",
            "17/17 [==============================] - 0s 5ms/step - loss: 0.1229 - accuracy: 0.9622 - val_loss: 0.1126 - val_accuracy: 0.9700\n",
            "Epoch 12/100\n",
            "17/17 [==============================] - 0s 5ms/step - loss: 0.1783 - accuracy: 0.9485 - val_loss: 0.2428 - val_accuracy: 0.8800\n",
            "Epoch 13/100\n",
            "17/17 [==============================] - 0s 5ms/step - loss: 0.2693 - accuracy: 0.8758 - val_loss: 0.0863 - val_accuracy: 0.9800\n",
            "Epoch 14/100\n",
            "17/17 [==============================] - 0s 5ms/step - loss: 0.1441 - accuracy: 0.9598 - val_loss: 0.0798 - val_accuracy: 0.9700\n",
            "Epoch 15/100\n",
            "17/17 [==============================] - 0s 5ms/step - loss: 0.1132 - accuracy: 0.9610 - val_loss: 0.1240 - val_accuracy: 0.9600\n",
            "Epoch 16/100\n",
            "17/17 [==============================] - 0s 5ms/step - loss: 0.0898 - accuracy: 0.9696 - val_loss: 0.0774 - val_accuracy: 0.9500\n",
            "Epoch 17/100\n",
            "17/17 [==============================] - 0s 5ms/step - loss: 0.0982 - accuracy: 0.9652 - val_loss: 0.0698 - val_accuracy: 0.9700\n",
            "Epoch 18/100\n",
            "17/17 [==============================] - 0s 5ms/step - loss: 0.1370 - accuracy: 0.9507 - val_loss: 0.3148 - val_accuracy: 0.8200\n",
            "Epoch 19/100\n",
            "17/17 [==============================] - 0s 5ms/step - loss: 0.2134 - accuracy: 0.8952 - val_loss: 0.0791 - val_accuracy: 0.9500\n",
            "Epoch 20/100\n",
            "17/17 [==============================] - 0s 5ms/step - loss: 0.1255 - accuracy: 0.9610 - val_loss: 0.0640 - val_accuracy: 0.9700\n",
            "Epoch 21/100\n",
            "17/17 [==============================] - 0s 5ms/step - loss: 0.0786 - accuracy: 0.9695 - val_loss: 0.0557 - val_accuracy: 0.9700\n",
            "Epoch 22/100\n",
            "17/17 [==============================] - 0s 5ms/step - loss: 0.0761 - accuracy: 0.9683 - val_loss: 0.0691 - val_accuracy: 0.9800\n",
            "Epoch 23/100\n",
            "17/17 [==============================] - 0s 5ms/step - loss: 0.0985 - accuracy: 0.9626 - val_loss: 0.0764 - val_accuracy: 0.9700\n",
            "Epoch 24/100\n",
            "17/17 [==============================] - 0s 5ms/step - loss: 0.0930 - accuracy: 0.9620 - val_loss: 0.0645 - val_accuracy: 0.9700\n",
            "Epoch 25/100\n",
            "17/17 [==============================] - 0s 5ms/step - loss: 0.0904 - accuracy: 0.9582 - val_loss: 0.0557 - val_accuracy: 0.9700\n",
            "Epoch 26/100\n",
            "17/17 [==============================] - 0s 5ms/step - loss: 0.0705 - accuracy: 0.9671 - val_loss: 0.0909 - val_accuracy: 0.9600\n",
            "Epoch 27/100\n",
            "17/17 [==============================] - 0s 5ms/step - loss: 0.0604 - accuracy: 0.9851 - val_loss: 0.0558 - val_accuracy: 0.9700\n",
            "Epoch 28/100\n",
            "17/17 [==============================] - 0s 5ms/step - loss: 0.0659 - accuracy: 0.9702 - val_loss: 0.0948 - val_accuracy: 0.9700\n",
            "Epoch 29/100\n",
            "17/17 [==============================] - 0s 5ms/step - loss: 0.1185 - accuracy: 0.9561 - val_loss: 0.0621 - val_accuracy: 0.9800\n",
            "Epoch 30/100\n",
            "17/17 [==============================] - 0s 5ms/step - loss: 0.0889 - accuracy: 0.9636 - val_loss: 0.0547 - val_accuracy: 0.9700\n",
            "Epoch 31/100\n",
            "17/17 [==============================] - 0s 5ms/step - loss: 0.0826 - accuracy: 0.9719 - val_loss: 0.2589 - val_accuracy: 0.9000\n",
            "Epoch 32/100\n",
            "17/17 [==============================] - 0s 5ms/step - loss: 0.1340 - accuracy: 0.9477 - val_loss: 0.0562 - val_accuracy: 0.9800\n",
            "Epoch 33/100\n",
            "17/17 [==============================] - 0s 5ms/step - loss: 0.1139 - accuracy: 0.9621 - val_loss: 0.0606 - val_accuracy: 0.9700\n",
            "Epoch 34/100\n",
            "17/17 [==============================] - 0s 5ms/step - loss: 0.0884 - accuracy: 0.9551 - val_loss: 0.0486 - val_accuracy: 0.9700\n",
            "Epoch 35/100\n",
            "17/17 [==============================] - 0s 5ms/step - loss: 0.0489 - accuracy: 0.9779 - val_loss: 0.0571 - val_accuracy: 0.9700\n",
            "Epoch 36/100\n",
            "17/17 [==============================] - 0s 5ms/step - loss: 0.0593 - accuracy: 0.9699 - val_loss: 0.0456 - val_accuracy: 0.9700\n",
            "Epoch 37/100\n",
            "17/17 [==============================] - 0s 5ms/step - loss: 0.0594 - accuracy: 0.9625 - val_loss: 0.0506 - val_accuracy: 0.9700\n",
            "Epoch 38/100\n",
            "17/17 [==============================] - 0s 5ms/step - loss: 0.0600 - accuracy: 0.9656 - val_loss: 0.0483 - val_accuracy: 0.9700\n",
            "Epoch 39/100\n",
            "17/17 [==============================] - 0s 5ms/step - loss: 0.0719 - accuracy: 0.9676 - val_loss: 0.0470 - val_accuracy: 0.9700\n",
            "Epoch 40/100\n",
            "17/17 [==============================] - 0s 5ms/step - loss: 0.0670 - accuracy: 0.9658 - val_loss: 0.0545 - val_accuracy: 0.9700\n",
            "Epoch 41/100\n",
            "17/17 [==============================] - 0s 5ms/step - loss: 0.0561 - accuracy: 0.9776 - val_loss: 0.0552 - val_accuracy: 0.9700\n",
            "Epoch 42/100\n",
            "17/17 [==============================] - 0s 5ms/step - loss: 0.0642 - accuracy: 0.9664 - val_loss: 0.0445 - val_accuracy: 0.9900\n",
            "Epoch 43/100\n",
            "17/17 [==============================] - 0s 5ms/step - loss: 0.0628 - accuracy: 0.9748 - val_loss: 0.0519 - val_accuracy: 0.9800\n",
            "Epoch 44/100\n",
            "17/17 [==============================] - 0s 5ms/step - loss: 0.0702 - accuracy: 0.9660 - val_loss: 0.0596 - val_accuracy: 0.9700\n",
            "Epoch 45/100\n",
            "17/17 [==============================] - 0s 5ms/step - loss: 0.0820 - accuracy: 0.9609 - val_loss: 0.2261 - val_accuracy: 0.9000\n",
            "Epoch 46/100\n",
            "17/17 [==============================] - 0s 6ms/step - loss: 0.1763 - accuracy: 0.9338 - val_loss: 0.3140 - val_accuracy: 0.8900\n",
            "Epoch 47/100\n",
            "17/17 [==============================] - 0s 5ms/step - loss: 0.2113 - accuracy: 0.8999 - val_loss: 1.1252 - val_accuracy: 0.7500\n",
            "Epoch 48/100\n",
            "17/17 [==============================] - 0s 5ms/step - loss: 0.3780 - accuracy: 0.8969 - val_loss: 0.4183 - val_accuracy: 0.8000\n",
            "Epoch 49/100\n",
            "17/17 [==============================] - 0s 5ms/step - loss: 0.1783 - accuracy: 0.9202 - val_loss: 0.1327 - val_accuracy: 0.9600\n",
            "Epoch 50/100\n",
            "17/17 [==============================] - 0s 4ms/step - loss: 0.1109 - accuracy: 0.9630 - val_loss: 0.0587 - val_accuracy: 0.9700\n",
            "Epoch 51/100\n",
            "17/17 [==============================] - 0s 5ms/step - loss: 0.0655 - accuracy: 0.9720 - val_loss: 0.0504 - val_accuracy: 0.9800\n",
            "Epoch 52/100\n",
            "17/17 [==============================] - 0s 5ms/step - loss: 0.0667 - accuracy: 0.9660 - val_loss: 0.0547 - val_accuracy: 0.9700\n",
            "Epoch 53/100\n",
            "17/17 [==============================] - 0s 5ms/step - loss: 0.0892 - accuracy: 0.9601 - val_loss: 0.0508 - val_accuracy: 0.9700\n",
            "Epoch 54/100\n",
            "17/17 [==============================] - 0s 6ms/step - loss: 0.0702 - accuracy: 0.9660 - val_loss: 0.0525 - val_accuracy: 0.9700\n",
            "Epoch 55/100\n",
            "17/17 [==============================] - 0s 5ms/step - loss: 0.0451 - accuracy: 0.9828 - val_loss: 0.0483 - val_accuracy: 0.9700\n",
            "Epoch 56/100\n",
            "17/17 [==============================] - 0s 6ms/step - loss: 0.0647 - accuracy: 0.9704 - val_loss: 0.0495 - val_accuracy: 0.9700\n",
            "Epoch 57/100\n",
            "17/17 [==============================] - 0s 5ms/step - loss: 0.0626 - accuracy: 0.9639 - val_loss: 0.0480 - val_accuracy: 0.9700\n",
            "Epoch 58/100\n",
            "17/17 [==============================] - 0s 5ms/step - loss: 0.0743 - accuracy: 0.9647 - val_loss: 0.0525 - val_accuracy: 0.9700\n",
            "Epoch 59/100\n",
            "17/17 [==============================] - 0s 5ms/step - loss: 0.0699 - accuracy: 0.9653 - val_loss: 0.0466 - val_accuracy: 0.9700\n",
            "Epoch 60/100\n",
            "17/17 [==============================] - 0s 5ms/step - loss: 0.0661 - accuracy: 0.9743 - val_loss: 0.0575 - val_accuracy: 0.9700\n",
            "Epoch 61/100\n",
            "17/17 [==============================] - 0s 5ms/step - loss: 0.0887 - accuracy: 0.9515 - val_loss: 0.0477 - val_accuracy: 0.9700\n",
            "Epoch 62/100\n",
            "17/17 [==============================] - 0s 5ms/step - loss: 0.0826 - accuracy: 0.9535 - val_loss: 0.0555 - val_accuracy: 0.9700\n",
            "Epoch 63/100\n",
            "17/17 [==============================] - 0s 4ms/step - loss: 0.0542 - accuracy: 0.9720 - val_loss: 0.0446 - val_accuracy: 0.9800\n",
            "Epoch 64/100\n",
            "17/17 [==============================] - 0s 4ms/step - loss: 0.0598 - accuracy: 0.9733 - val_loss: 0.0466 - val_accuracy: 0.9700\n",
            "Epoch 65/100\n",
            "17/17 [==============================] - 0s 5ms/step - loss: 0.0596 - accuracy: 0.9702 - val_loss: 0.1063 - val_accuracy: 0.9400\n",
            "Epoch 66/100\n",
            "17/17 [==============================] - 0s 5ms/step - loss: 0.0718 - accuracy: 0.9661 - val_loss: 0.0548 - val_accuracy: 0.9700\n",
            "Epoch 67/100\n",
            "17/17 [==============================] - 0s 6ms/step - loss: 0.0890 - accuracy: 0.9489 - val_loss: 0.0454 - val_accuracy: 0.9900\n",
            "Epoch 68/100\n",
            "17/17 [==============================] - 0s 5ms/step - loss: 0.0555 - accuracy: 0.9713 - val_loss: 0.0522 - val_accuracy: 0.9700\n",
            "Epoch 69/100\n",
            "17/17 [==============================] - 0s 5ms/step - loss: 0.0772 - accuracy: 0.9589 - val_loss: 0.0480 - val_accuracy: 0.9700\n",
            "Epoch 70/100\n",
            "17/17 [==============================] - 0s 6ms/step - loss: 0.0736 - accuracy: 0.9686 - val_loss: 0.0486 - val_accuracy: 0.9800\n",
            "Epoch 71/100\n",
            "17/17 [==============================] - 0s 5ms/step - loss: 0.0669 - accuracy: 0.9650 - val_loss: 0.0529 - val_accuracy: 0.9700\n",
            "Epoch 72/100\n",
            "17/17 [==============================] - 0s 5ms/step - loss: 0.0740 - accuracy: 0.9733 - val_loss: 0.0600 - val_accuracy: 0.9700\n",
            "Epoch 73/100\n",
            "17/17 [==============================] - 0s 5ms/step - loss: 0.0455 - accuracy: 0.9837 - val_loss: 0.0576 - val_accuracy: 0.9700\n",
            "Epoch 74/100\n",
            "17/17 [==============================] - 0s 5ms/step - loss: 0.0728 - accuracy: 0.9688 - val_loss: 0.0424 - val_accuracy: 0.9800\n",
            "Epoch 75/100\n",
            "17/17 [==============================] - 0s 5ms/step - loss: 0.0965 - accuracy: 0.9470 - val_loss: 0.0858 - val_accuracy: 0.9500\n",
            "Epoch 76/100\n",
            "17/17 [==============================] - 0s 4ms/step - loss: 0.0682 - accuracy: 0.9618 - val_loss: 0.0478 - val_accuracy: 0.9800\n",
            "Epoch 77/100\n",
            "17/17 [==============================] - 0s 6ms/step - loss: 0.0647 - accuracy: 0.9767 - val_loss: 0.0578 - val_accuracy: 0.9700\n",
            "Epoch 78/100\n",
            "17/17 [==============================] - 0s 5ms/step - loss: 0.0614 - accuracy: 0.9728 - val_loss: 0.0458 - val_accuracy: 0.9700\n",
            "Epoch 79/100\n",
            "17/17 [==============================] - 0s 5ms/step - loss: 0.0550 - accuracy: 0.9717 - val_loss: 0.0502 - val_accuracy: 0.9700\n",
            "Epoch 80/100\n",
            "17/17 [==============================] - 0s 6ms/step - loss: 0.0636 - accuracy: 0.9696 - val_loss: 0.0470 - val_accuracy: 0.9700\n",
            "Epoch 81/100\n",
            "17/17 [==============================] - 0s 5ms/step - loss: 0.0623 - accuracy: 0.9756 - val_loss: 0.0535 - val_accuracy: 0.9700\n",
            "Epoch 82/100\n",
            "17/17 [==============================] - 0s 5ms/step - loss: 0.0637 - accuracy: 0.9811 - val_loss: 0.0491 - val_accuracy: 0.9700\n",
            "Epoch 83/100\n",
            "17/17 [==============================] - 0s 5ms/step - loss: 0.0800 - accuracy: 0.9617 - val_loss: 0.0481 - val_accuracy: 0.9700\n",
            "Epoch 84/100\n",
            "17/17 [==============================] - 0s 5ms/step - loss: 0.0614 - accuracy: 0.9668 - val_loss: 0.0485 - val_accuracy: 0.9700\n",
            "Epoch 85/100\n",
            "17/17 [==============================] - 0s 5ms/step - loss: 0.0669 - accuracy: 0.9645 - val_loss: 0.0439 - val_accuracy: 0.9700\n",
            "Epoch 86/100\n",
            "17/17 [==============================] - 0s 5ms/step - loss: 0.0676 - accuracy: 0.9694 - val_loss: 0.0467 - val_accuracy: 0.9700\n",
            "Epoch 87/100\n",
            "17/17 [==============================] - 0s 5ms/step - loss: 0.0586 - accuracy: 0.9753 - val_loss: 0.0511 - val_accuracy: 0.9800\n",
            "Epoch 88/100\n",
            "17/17 [==============================] - 0s 5ms/step - loss: 0.0569 - accuracy: 0.9734 - val_loss: 0.0400 - val_accuracy: 0.9800\n",
            "Epoch 89/100\n",
            "17/17 [==============================] - 0s 5ms/step - loss: 0.0639 - accuracy: 0.9689 - val_loss: 0.0550 - val_accuracy: 0.9700\n",
            "Epoch 90/100\n",
            "17/17 [==============================] - 0s 5ms/step - loss: 0.0681 - accuracy: 0.9694 - val_loss: 0.0424 - val_accuracy: 0.9800\n",
            "Epoch 91/100\n",
            "17/17 [==============================] - 0s 5ms/step - loss: 0.0613 - accuracy: 0.9702 - val_loss: 0.0483 - val_accuracy: 0.9800\n",
            "Epoch 92/100\n",
            "17/17 [==============================] - 0s 5ms/step - loss: 0.0675 - accuracy: 0.9673 - val_loss: 0.0433 - val_accuracy: 0.9700\n",
            "Epoch 93/100\n",
            "17/17 [==============================] - 0s 5ms/step - loss: 0.0579 - accuracy: 0.9638 - val_loss: 0.0494 - val_accuracy: 0.9700\n",
            "Epoch 94/100\n",
            "17/17 [==============================] - 0s 5ms/step - loss: 0.0659 - accuracy: 0.9715 - val_loss: 0.0404 - val_accuracy: 0.9800\n",
            "Epoch 95/100\n",
            "17/17 [==============================] - 0s 5ms/step - loss: 0.0801 - accuracy: 0.9631 - val_loss: 0.0496 - val_accuracy: 0.9700\n",
            "Epoch 96/100\n",
            "17/17 [==============================] - 0s 5ms/step - loss: 0.0637 - accuracy: 0.9700 - val_loss: 0.0514 - val_accuracy: 0.9800\n",
            "Epoch 97/100\n",
            "17/17 [==============================] - 0s 5ms/step - loss: 0.0708 - accuracy: 0.9672 - val_loss: 0.0437 - val_accuracy: 0.9800\n",
            "Epoch 98/100\n",
            "17/17 [==============================] - 0s 5ms/step - loss: 0.0731 - accuracy: 0.9629 - val_loss: 0.0519 - val_accuracy: 0.9700\n",
            "Epoch 99/100\n",
            "17/17 [==============================] - 0s 5ms/step - loss: 0.0693 - accuracy: 0.9702 - val_loss: 0.0581 - val_accuracy: 0.9800\n",
            "Epoch 100/100\n",
            "17/17 [==============================] - 0s 5ms/step - loss: 0.0558 - accuracy: 0.9765 - val_loss: 0.0566 - val_accuracy: 0.9700\n"
          ],
          "name": "stdout"
        }
      ]
    },
    {
      "cell_type": "markdown",
      "metadata": {
        "id": "zivKezCqLbTQ"
      },
      "source": [
        "# Salvando a Rede Neural"
      ]
    },
    {
      "cell_type": "code",
      "metadata": {
        "id": "2JB3x1OqPFrK",
        "colab": {
          "base_uri": "https://localhost:8080/"
        },
        "outputId": "5e944378-5365-4810-888f-c789648d16b7"
      },
      "source": [
        "from google.colab import drive\n",
        "drive.mount('/content/drive')"
      ],
      "execution_count": null,
      "outputs": [
        {
          "output_type": "stream",
          "text": [
            "Drive already mounted at /content/drive; to attempt to forcibly remount, call drive.mount(\"/content/drive\", force_remount=True).\n"
          ],
          "name": "stdout"
        }
      ]
    },
    {
      "cell_type": "code",
      "metadata": {
        "id": "juowBv4zLOqd",
        "colab": {
          "base_uri": "https://localhost:8080/"
        },
        "outputId": "bbc38f86-5482-4f7e-af6f-534eb66b1333"
      },
      "source": [
        "#serialize model to JSON\n",
        "model_json = model.to_json()\n",
        "with open(\"/content/drive/My Drive/cenario2-ANGRA-model.json\", \"w\") as json_file:\n",
        "    json_file.write(model_json)\n",
        "    \n",
        "#serialize weights to HDF5\n",
        "model.save_weights(\"/content/drive/My Drive/cenario2-ANGRA-model.h5\")\n",
        "print(\"Saved model to disk\")"
      ],
      "execution_count": null,
      "outputs": [
        {
          "output_type": "stream",
          "text": [
            "Saved model to disk\n"
          ],
          "name": "stdout"
        }
      ]
    },
    {
      "cell_type": "markdown",
      "metadata": {
        "id": "iK8mtW3LL8_o"
      },
      "source": [
        "# Resultado Real x Esperado"
      ]
    },
    {
      "cell_type": "code",
      "metadata": {
        "id": "7sEJPenAL3zH",
        "colab": {
          "base_uri": "https://localhost:8080/"
        },
        "outputId": "0f26ff96-1a86-42da-94a4-a191bae3853a"
      },
      "source": [
        "y_pred = model.predict(x_test)\n",
        "print(y_pred, y_test, end='')"
      ],
      "execution_count": null,
      "outputs": [
        {
          "output_type": "stream",
          "text": [
            "[[1.62461049e-07 3.57255180e-06 4.96111263e-10 9.99996305e-01]\n",
            " [1.88837575e-07 9.99899268e-01 1.00466597e-04 3.05561763e-08]\n",
            " [1.69800035e-06 9.89683390e-01 1.03147393e-02 2.91695386e-07]\n",
            " [1.28081638e-06 9.92925286e-01 7.07314815e-03 2.10395697e-07]\n",
            " [1.00000000e+00 1.18037621e-10 8.88187737e-16 6.71302749e-13]\n",
            " [9.75301772e-15 3.55481825e-06 9.99996424e-01 1.21984365e-16]\n",
            " [1.58886024e-07 3.48230333e-06 4.62364813e-10 9.99996305e-01]\n",
            " [1.00000000e+00 2.82632528e-10 1.18924315e-15 5.76784193e-12]\n",
            " [7.72875046e-06 1.09732886e-04 2.53888039e-08 9.99882460e-01]\n",
            " [5.58749491e-07 1.06598336e-05 7.39669159e-10 9.99988794e-01]\n",
            " [2.86125965e-06 9.80199397e-01 1.97973140e-02 5.07598600e-07]\n",
            " [7.60029835e-08 1.03080970e-06 4.72199710e-11 9.99998927e-01]\n",
            " [1.00000000e+00 1.01154196e-09 2.38981740e-13 1.23847905e-12]\n",
            " [4.76510758e-13 1.09071094e-04 9.99890924e-01 1.03229676e-14]\n",
            " [1.28081638e-06 9.92925286e-01 7.07314815e-03 2.10395697e-07]\n",
            " [3.65481376e-15 2.09491100e-06 9.99997854e-01 4.01684199e-17]\n",
            " [1.00000000e+00 1.08768472e-11 7.81821336e-18 1.27542765e-13]\n",
            " [2.18215191e-05 2.95335689e-04 8.14611155e-07 9.99682069e-01]\n",
            " [5.29057900e-08 9.99900818e-01 9.92102359e-05 4.89724972e-09]\n",
            " [8.24386692e-09 9.99992251e-01 7.79590937e-06 1.02232034e-09]\n",
            " [3.55528828e-05 2.05482338e-02 7.02939474e-07 9.79415536e-01]\n",
            " [3.15689221e-07 9.98778284e-01 1.22139731e-03 3.94725355e-08]\n",
            " [1.16730756e-18 2.58309854e-08 1.00000000e+00 4.33923480e-21]\n",
            " [1.75773213e-18 3.02806349e-08 1.00000000e+00 7.05674728e-21]\n",
            " [1.00000000e+00 1.05716807e-11 1.81908630e-17 5.04226652e-14]\n",
            " [3.04740749e-15 1.02469266e-06 9.99998927e-01 3.24153255e-17]\n",
            " [3.93228064e-17 1.95672172e-07 9.99999762e-01 2.31095212e-19]\n",
            " [3.78136145e-09 9.99995351e-01 4.61757236e-06 4.61472777e-10]\n",
            " [7.68814934e-05 9.66911437e-04 7.26030862e-07 9.98955488e-01]\n",
            " [1.22632329e-15 1.10306200e-06 9.99998927e-01 1.15522663e-17]\n",
            " [1.18161466e-07 9.99994278e-01 5.51476887e-06 8.54018580e-08]\n",
            " [9.83090623e-11 6.18812453e-04 9.99381185e-01 3.62320113e-12]\n",
            " [1.00000000e+00 2.23713704e-11 9.47741790e-17 8.08439687e-14]\n",
            " [2.94027091e-13 7.44987337e-05 9.99925494e-01 5.87947337e-15]\n",
            " [1.00000000e+00 7.71078409e-11 4.87007999e-16 3.91922334e-13]\n",
            " [2.96863716e-13 5.39091525e-05 9.99946117e-01 5.95117090e-15]\n",
            " [1.58139485e-19 1.00527799e-08 1.00000000e+00 4.58620355e-22]\n",
            " [1.00000000e+00 1.69574493e-11 5.53393127e-17 6.39890837e-14]\n",
            " [5.74514196e-08 1.04573235e-06 5.24618092e-11 9.99998927e-01]\n",
            " [1.88901961e-01 3.66117924e-01 1.98398903e-01 2.46581227e-01]\n",
            " [1.00000000e+00 5.31097388e-11 2.85466250e-16 2.46995214e-13]\n",
            " [1.53141571e-08 5.10275015e-07 2.13531727e-11 9.99999523e-01]\n",
            " [1.54707571e-02 9.37084913e-01 3.13900001e-02 1.60544589e-02]\n",
            " [1.00000000e+00 2.65404893e-10 3.44361838e-15 1.67710724e-12]\n",
            " [1.83464834e-08 4.30658730e-07 1.33012932e-11 9.99999523e-01]\n",
            " [1.00000000e+00 1.19727960e-11 1.69510285e-17 8.55607360e-14]\n",
            " [5.05860739e-15 6.43544035e-06 9.99993563e-01 6.00921039e-17]\n",
            " [3.45978002e-08 9.95645583e-01 4.35440568e-03 2.54307930e-09]\n",
            " [1.00000000e+00 5.97317890e-11 4.55605099e-16 2.41522676e-13]\n",
            " [1.20480372e-08 9.99770582e-01 2.29442623e-04 8.39690373e-10]\n",
            " [1.00000000e+00 1.19491613e-11 2.53970488e-17 5.25440998e-14]\n",
            " [1.00000000e+00 8.26426289e-11 1.98986166e-14 1.34134545e-14]\n",
            " [1.00000000e+00 2.81687347e-11 2.15801218e-16 6.14594570e-14]\n",
            " [1.14029966e-07 1.43645593e-06 8.10793030e-11 9.99998450e-01]\n",
            " [3.23338872e-06 9.79862988e-01 2.01331303e-02 5.83109170e-07]\n",
            " [4.23291311e-07 4.34908179e-06 4.92316687e-10 9.99995232e-01]\n",
            " [6.22017357e-14 1.10898882e-05 9.99988914e-01 9.92335732e-16]\n",
            " [4.46895092e-06 9.92043436e-01 7.95114227e-03 9.29244891e-07]\n",
            " [1.00000000e+00 4.32453075e-12 4.41509637e-18 1.78545685e-14]\n",
            " [1.25948262e-07 1.59432864e-06 9.73350636e-11 9.99998331e-01]\n",
            " [8.31809122e-14 1.02530848e-05 9.99989748e-01 1.39904527e-15]\n",
            " [1.65402089e-04 1.53660960e-03 1.18388671e-05 9.98286068e-01]\n",
            " [1.44988244e-10 7.77161273e-04 9.99222875e-01 5.81729933e-12]\n",
            " [2.91933717e-16 6.94354469e-07 9.99999285e-01 2.12826685e-18]\n",
            " [1.00000000e+00 1.31246944e-10 1.43776061e-15 6.34082468e-13]\n",
            " [4.43090414e-07 4.52967515e-06 5.27758615e-10 9.99994993e-01]\n",
            " [3.39601684e-06 9.90231454e-01 9.76448506e-03 6.66337655e-07]\n",
            " [1.00000000e+00 1.52583068e-11 1.78164513e-16 1.45408232e-14]\n",
            " [8.04024694e-06 9.89756644e-01 1.02336248e-02 1.79437757e-06]\n",
            " [1.00000000e+00 1.17451188e-11 1.11081075e-17 1.19889857e-13]\n",
            " [1.69800035e-06 9.89683390e-01 1.03147393e-02 2.91695386e-07]\n",
            " [1.00000000e+00 4.69766226e-09 2.28532709e-12 7.70989782e-12]\n",
            " [9.75301772e-15 3.55481825e-06 9.99996424e-01 1.21984365e-16]\n",
            " [4.25937470e-13 2.88734991e-05 9.99971151e-01 8.68793817e-15]\n",
            " [4.94251594e-07 9.89070535e-01 1.09290369e-02 5.49806174e-08]\n",
            " [9.20231560e-06 1.09973410e-03 4.83803149e-08 9.98891056e-01]\n",
            " [1.00000000e+00 1.63713973e-11 3.59721023e-16 8.06729510e-15]\n",
            " [5.91831686e-08 8.40521352e-07 3.42103637e-11 9.99999046e-01]\n",
            " [4.20420285e-08 9.71113443e-01 2.88865399e-02 2.70171907e-09]\n",
            " [2.49969185e-06 9.97333646e-01 2.66339025e-03 5.10793484e-07]\n",
            " [1.25692839e-15 1.12038344e-06 9.99998927e-01 1.19648483e-17]\n",
            " [1.06220059e-19 9.11309428e-09 1.00000000e+00 2.88285469e-22]\n",
            " [9.99205649e-01 4.75139794e-04 1.18952430e-05 3.07357521e-04]\n",
            " [1.00000000e+00 1.38166478e-09 2.66485429e-13 2.09157735e-12]\n",
            " [8.07281481e-07 1.82973854e-05 1.29412736e-09 9.99980927e-01]\n",
            " [3.84318817e-08 9.99996543e-01 3.50844175e-06 2.08333262e-08]\n",
            " [1.00000000e+00 3.29282046e-10 1.51430365e-14 6.71451284e-13]\n",
            " [1.00000000e+00 2.96574952e-11 1.51660879e-16 1.08324272e-13]\n",
            " [6.81242998e-19 1.64555107e-08 1.00000000e+00 2.43163999e-21]\n",
            " [1.00000000e+00 1.57554837e-11 4.24134543e-17 6.32819602e-14]\n",
            " [1.04282673e-14 4.29185366e-06 9.99995708e-01 1.31195424e-16]\n",
            " [1.00000000e+00 5.86691667e-11 2.10732242e-16 4.26074052e-13]\n",
            " [2.40303191e-08 9.99751627e-01 2.48422584e-04 2.06601758e-09]\n",
            " [2.57441214e-14 1.99400856e-05 9.99980092e-01 3.72337737e-16]\n",
            " [2.93787144e-14 7.27559018e-06 9.99992728e-01 4.25431245e-16]\n",
            " [1.22755866e-16 6.58881618e-07 9.99999285e-01 8.26302612e-19]\n",
            " [3.15210507e-08 5.85073849e-07 1.93717282e-11 9.99999404e-01]\n",
            " [3.39601684e-06 9.90231454e-01 9.76448506e-03 6.66337655e-07]\n",
            " [1.39224639e-05 2.23515183e-03 8.77743886e-08 9.97750819e-01]\n",
            " [1.00000000e+00 1.57554837e-11 4.24134543e-17 6.32819602e-14]] [[0 0 0 1]\n",
            " [0 1 0 0]\n",
            " [0 1 0 0]\n",
            " [0 1 0 0]\n",
            " [1 0 0 0]\n",
            " [0 0 1 0]\n",
            " [0 0 0 1]\n",
            " [1 0 0 0]\n",
            " [0 0 0 1]\n",
            " [0 0 0 1]\n",
            " [0 1 0 0]\n",
            " [0 0 0 1]\n",
            " [1 0 0 0]\n",
            " [0 0 1 0]\n",
            " [0 1 0 0]\n",
            " [0 0 1 0]\n",
            " [1 0 0 0]\n",
            " [0 0 0 1]\n",
            " [0 1 0 0]\n",
            " [0 1 0 0]\n",
            " [0 0 0 1]\n",
            " [0 1 0 0]\n",
            " [0 0 1 0]\n",
            " [0 0 1 0]\n",
            " [1 0 0 0]\n",
            " [0 0 1 0]\n",
            " [0 0 1 0]\n",
            " [0 1 0 0]\n",
            " [0 0 0 1]\n",
            " [0 0 1 0]\n",
            " [0 1 0 0]\n",
            " [0 0 1 0]\n",
            " [1 0 0 0]\n",
            " [0 0 1 0]\n",
            " [1 0 0 0]\n",
            " [0 0 1 0]\n",
            " [0 0 1 0]\n",
            " [1 0 0 0]\n",
            " [0 0 0 1]\n",
            " [0 0 1 0]\n",
            " [1 0 0 0]\n",
            " [0 0 0 1]\n",
            " [0 1 0 0]\n",
            " [1 0 0 0]\n",
            " [0 0 0 1]\n",
            " [1 0 0 0]\n",
            " [0 0 1 0]\n",
            " [0 1 0 0]\n",
            " [1 0 0 0]\n",
            " [0 1 0 0]\n",
            " [1 0 0 0]\n",
            " [1 0 0 0]\n",
            " [1 0 0 0]\n",
            " [0 0 0 1]\n",
            " [0 1 0 0]\n",
            " [0 0 0 1]\n",
            " [0 0 1 0]\n",
            " [0 1 0 0]\n",
            " [1 0 0 0]\n",
            " [0 0 0 1]\n",
            " [0 0 1 0]\n",
            " [0 0 0 1]\n",
            " [0 0 1 0]\n",
            " [0 0 1 0]\n",
            " [1 0 0 0]\n",
            " [0 0 0 1]\n",
            " [0 1 0 0]\n",
            " [1 0 0 0]\n",
            " [0 1 0 0]\n",
            " [1 0 0 0]\n",
            " [0 1 0 0]\n",
            " [1 0 0 0]\n",
            " [0 0 1 0]\n",
            " [0 0 1 0]\n",
            " [0 1 0 0]\n",
            " [0 0 0 1]\n",
            " [1 0 0 0]\n",
            " [0 0 0 1]\n",
            " [0 1 0 0]\n",
            " [0 1 0 0]\n",
            " [0 0 1 0]\n",
            " [0 0 1 0]\n",
            " [1 0 0 0]\n",
            " [1 0 0 0]\n",
            " [0 0 0 1]\n",
            " [0 1 0 0]\n",
            " [1 0 0 0]\n",
            " [1 0 0 0]\n",
            " [0 0 1 0]\n",
            " [1 0 0 0]\n",
            " [0 0 1 0]\n",
            " [1 0 0 0]\n",
            " [0 1 0 0]\n",
            " [0 0 1 0]\n",
            " [0 0 1 0]\n",
            " [0 0 1 0]\n",
            " [0 0 0 1]\n",
            " [0 1 0 0]\n",
            " [0 0 0 1]\n",
            " [1 0 0 0]]"
          ],
          "name": "stdout"
        }
      ]
    },
    {
      "cell_type": "code",
      "metadata": {
        "id": "PmbSOjd7RJJe",
        "colab": {
          "base_uri": "https://localhost:8080/",
          "height": 416
        },
        "outputId": "d07ce88b-9dfc-4e25-97de-89ddee48e774"
      },
      "source": [
        "new = []\n",
        "for i in range(0,len(y_pred)): \n",
        "    lista = [y_pred[i][0], y_pred[i][1],y_pred[i][2],y_pred[i][3]]\n",
        "    p = lista.index(max(lista))\n",
        "    lista = []\n",
        "    if p == 0:\n",
        "      new.append(1)#('blackout - 1')\n",
        "    if p == 1:\n",
        "      new.append(4)#('mefwisem - 4')\n",
        "    if p == 2:\n",
        "      new.append(7)#('mfwbrsem - 7')\n",
        "    if p== 3:\n",
        "      new.append(10)#('mstmisem - 10')\n",
        "c = ['Retorno da Rede']\n",
        "df = pd.DataFrame(data=new, columns=c)\n",
        "df['Cenários Originais'] = list_r\n",
        "df[df['Cenários Originais'] != df['Retorno da Rede']]\n"
      ],
      "execution_count": null,
      "outputs": [
        {
          "output_type": "execute_result",
          "data": {
            "text/html": [
              "<div>\n",
              "<style scoped>\n",
              "    .dataframe tbody tr th:only-of-type {\n",
              "        vertical-align: middle;\n",
              "    }\n",
              "\n",
              "    .dataframe tbody tr th {\n",
              "        vertical-align: top;\n",
              "    }\n",
              "\n",
              "    .dataframe thead th {\n",
              "        text-align: right;\n",
              "    }\n",
              "</style>\n",
              "<table border=\"1\" class=\"dataframe\">\n",
              "  <thead>\n",
              "    <tr style=\"text-align: right;\">\n",
              "      <th></th>\n",
              "      <th>Retorno da Rede</th>\n",
              "      <th>Cenários Originais</th>\n",
              "    </tr>\n",
              "  </thead>\n",
              "  <tbody>\n",
              "    <tr>\n",
              "      <th>0</th>\n",
              "      <td>10</td>\n",
              "      <td>mstmisem</td>\n",
              "    </tr>\n",
              "    <tr>\n",
              "      <th>1</th>\n",
              "      <td>4</td>\n",
              "      <td>mefwisem</td>\n",
              "    </tr>\n",
              "    <tr>\n",
              "      <th>2</th>\n",
              "      <td>4</td>\n",
              "      <td>mefwisem</td>\n",
              "    </tr>\n",
              "    <tr>\n",
              "      <th>3</th>\n",
              "      <td>4</td>\n",
              "      <td>mefwisem</td>\n",
              "    </tr>\n",
              "    <tr>\n",
              "      <th>4</th>\n",
              "      <td>1</td>\n",
              "      <td>blackout</td>\n",
              "    </tr>\n",
              "    <tr>\n",
              "      <th>...</th>\n",
              "      <td>...</td>\n",
              "      <td>...</td>\n",
              "    </tr>\n",
              "    <tr>\n",
              "      <th>95</th>\n",
              "      <td>7</td>\n",
              "      <td>mfwbrsem</td>\n",
              "    </tr>\n",
              "    <tr>\n",
              "      <th>96</th>\n",
              "      <td>10</td>\n",
              "      <td>mstmisem</td>\n",
              "    </tr>\n",
              "    <tr>\n",
              "      <th>97</th>\n",
              "      <td>4</td>\n",
              "      <td>mefwisem</td>\n",
              "    </tr>\n",
              "    <tr>\n",
              "      <th>98</th>\n",
              "      <td>10</td>\n",
              "      <td>mstmisem</td>\n",
              "    </tr>\n",
              "    <tr>\n",
              "      <th>99</th>\n",
              "      <td>1</td>\n",
              "      <td>blackout</td>\n",
              "    </tr>\n",
              "  </tbody>\n",
              "</table>\n",
              "<p>100 rows × 2 columns</p>\n",
              "</div>"
            ],
            "text/plain": [
              "    Retorno da Rede Cenários Originais\n",
              "0                10           mstmisem\n",
              "1                 4           mefwisem\n",
              "2                 4           mefwisem\n",
              "3                 4           mefwisem\n",
              "4                 1           blackout\n",
              "..              ...                ...\n",
              "95                7           mfwbrsem\n",
              "96               10           mstmisem\n",
              "97                4           mefwisem\n",
              "98               10           mstmisem\n",
              "99                1           blackout\n",
              "\n",
              "[100 rows x 2 columns]"
            ]
          },
          "metadata": {
            "tags": []
          },
          "execution_count": 75
        }
      ]
    },
    {
      "cell_type": "markdown",
      "metadata": {
        "id": "yJ0ynX7tLoMa"
      },
      "source": [
        "# Avaliando Performance da Rede Neural"
      ]
    },
    {
      "cell_type": "code",
      "metadata": {
        "id": "5AXH8tipLs1S",
        "colab": {
          "base_uri": "https://localhost:8080/"
        },
        "outputId": "7509527c-19cb-43c9-a906-ea86305a2f29"
      },
      "source": [
        "model.evaluate(x_train, y_train)"
      ],
      "execution_count": null,
      "outputs": [
        {
          "output_type": "stream",
          "text": [
            "17/17 [==============================] - 0s 1ms/step - loss: 0.0649 - accuracy: 0.9680\n"
          ],
          "name": "stdout"
        },
        {
          "output_type": "execute_result",
          "data": {
            "text/plain": [
              "[0.06487105041742325, 0.9680451154708862]"
            ]
          },
          "metadata": {
            "tags": []
          },
          "execution_count": 76
        }
      ]
    },
    {
      "cell_type": "code",
      "metadata": {
        "id": "SJaVCEBKL0TV",
        "colab": {
          "base_uri": "https://localhost:8080/"
        },
        "outputId": "68a36094-5cd4-4d70-8d82-3a1d5e6225da"
      },
      "source": [
        "model.evaluate(x_valid, y_valid)"
      ],
      "execution_count": null,
      "outputs": [
        {
          "output_type": "stream",
          "text": [
            "4/4 [==============================] - 0s 2ms/step - loss: 0.0566 - accuracy: 0.9700\n"
          ],
          "name": "stdout"
        },
        {
          "output_type": "execute_result",
          "data": {
            "text/plain": [
              "[0.056642040610313416, 0.9700000286102295]"
            ]
          },
          "metadata": {
            "tags": []
          },
          "execution_count": 77
        }
      ]
    },
    {
      "cell_type": "code",
      "metadata": {
        "id": "P6Sv_r3vL0cK",
        "colab": {
          "base_uri": "https://localhost:8080/"
        },
        "outputId": "438d78c6-b743-4b84-d96e-b8fe92ee980b"
      },
      "source": [
        "model.evaluate(x_test, y_test)"
      ],
      "execution_count": null,
      "outputs": [
        {
          "output_type": "stream",
          "text": [
            "4/4 [==============================] - 0s 2ms/step - loss: 0.0187 - accuracy: 0.9900\n"
          ],
          "name": "stdout"
        },
        {
          "output_type": "execute_result",
          "data": {
            "text/plain": [
              "[0.018748566508293152, 0.9900000095367432]"
            ]
          },
          "metadata": {
            "tags": []
          },
          "execution_count": 78
        }
      ]
    },
    {
      "cell_type": "code",
      "metadata": {
        "id": "dvpPDMsuMQ4s",
        "colab": {
          "base_uri": "https://localhost:8080/"
        },
        "outputId": "f31976c1-fd7e-4e22-8136-b65b05f5cb23"
      },
      "source": [
        "print('MAE:', mean_absolute_error(y_test, y_pred))  \n",
        "print('MSE:', mean_squared_error(y_test, y_pred))  \n",
        "print('RMSE:', np.sqrt(mean_squared_error(y_test, y_pred)))\n",
        "print('R2_Score:', r2_score(y_test, y_pred))"
      ],
      "execution_count": null,
      "outputs": [
        {
          "output_type": "stream",
          "text": [
            "MAE: 0.005277268066085891\n",
            "MSE: 0.0022107603483911696\n",
            "RMSE: 0.04701872338112945\n",
            "R2_Score: 0.988503026294814\n"
          ],
          "name": "stdout"
        }
      ]
    },
    {
      "cell_type": "code",
      "metadata": {
        "id": "DxUOvxDwMLgi",
        "colab": {
          "base_uri": "https://localhost:8080/",
          "height": 294
        },
        "outputId": "4191070c-6a72-4345-ff81-a997976bb3ce"
      },
      "source": [
        "import matplotlib.pyplot as plt\n",
        "\n",
        "plt.plot(history.history['loss'][0:50])\n",
        "plt.plot(history.history['val_loss'][0:50])\n",
        "plt.title('model loss')\n",
        "plt.ylabel('loss')\n",
        "plt.xlabel('epoch')\n",
        "plt.legend(['train', 'validation'], loc='upper left')\n",
        "plt.show()\n",
        "plt.close()"
      ],
      "execution_count": null,
      "outputs": [
        {
          "output_type": "display_data",
          "data": {
            "image/png": "[encoded data removed]",
            "text/plain": [
              "<Figure size 432x288 with 1 Axes>"
            ]
          },
          "metadata": {
            "tags": [],
            "needs_background": "light"
          }
        }
      ]
    },
    {
      "cell_type": "code",
      "metadata": {
        "id": "cmfAkOF6MNTz",
        "colab": {
          "base_uri": "https://localhost:8080/",
          "height": 294
        },
        "outputId": "d0b533ff-ba70-41e6-850f-0ca27ccaf2a9"
      },
      "source": [
        "plt.plot(history.history['accuracy'][0:50])\n",
        "plt.plot(history.history['val_accuracy'][0:50])\n",
        "plt.title('model accuracy')\n",
        "plt.ylabel('accuracy')\n",
        "plt.xlabel('epoch')\n",
        "plt.legend(['train', 'validation'], loc='upper left')\n",
        "plt.show()"
      ],
      "execution_count": null,
      "outputs": [
        {
          "output_type": "display_data",
          "data": {
            "image/png": "[encoded data removed]",
            "text/plain": [
              "<Figure size 432x288 with 1 Axes>"
            ]
          },
          "metadata": {
            "tags": [],
            "needs_background": "light"
          }
        }
      ]
    },
    {
      "cell_type": "code",
      "metadata": {
        "colab": {
          "base_uri": "https://localhost:8080/",
          "height": 304
        },
        "id": "jifuRaDJMeOB",
        "outputId": "d97edab2-5fe7-4638-9efe-f815f59f365b"
      },
      "source": [
        "import numpy as np\n",
        "from sklearn.linear_model import LinearRegression\n",
        "\n",
        "x = y_test.reshape(-1, 1)\n",
        "y = y_train\n",
        "\n",
        "model = LinearRegression()\n",
        "\n",
        "model.fit(x, y)\n",
        "\n",
        "model = LinearRegression().fit(x, y)\n",
        "\n",
        "r_sq = r2_score(y_test, y_pred)\n",
        "print('coefficient of determination:', r_sq)\n",
        "\n",
        "print('intercept:', model.intercept_)\n",
        "\n",
        "print('slope:', model.coef_)\n",
        "\n",
        "# Plot outputs\n",
        "plt.scatter(y_test, y_test,  color='black')\n",
        "plt.plot(y_test, y_pred, color='blue', linewidth=1)\n",
        "\n",
        "plt.xticks(())\n",
        "plt.yticks(())\n",
        "\n",
        "plt.show()\n"
      ],
      "execution_count": null,
      "outputs": [
        {
          "output_type": "stream",
          "text": [
            "coefficient of determination: 1.0\n",
            "intercept: 0.0\n",
            "slope: [1.]\n"
          ],
          "name": "stdout"
        },
        {
          "output_type": "display_data",
          "data": {
            "image/png": "[encoded data removed]",
            "text/plain": [
              "<Figure size 432x288 with 1 Axes>"
            ]
          },
          "metadata": {
            "tags": []
          }
        }
      ]
    }
  ]
}